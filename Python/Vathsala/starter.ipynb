{
 "cells": [
  {
   "cell_type": "code",
   "execution_count": 1,
   "metadata": {},
   "outputs": [
    {
     "name": "stderr",
     "output_type": "stream",
     "text": [
      "/home/vathsala/anaconda2/envs/ospy3/lib/python3.6/site-packages/sklearn/cross_validation.py:44: DeprecationWarning: This module was deprecated in version 0.18 in favor of the model_selection module into which all the refactored classes and functions are moved. Also note that the interface of the new CV iterators are different from that of this module. This module will be removed in 0.20.\n",
      "  \"This module will be removed in 0.20.\", DeprecationWarning)\n"
     ]
    }
   ],
   "source": [
    "import pandas as pd\n",
    "import numpy as np\n",
    "from sklearn import preprocessing\n",
    "from sklearn.cross_validation import train_test_split\n",
    "from sklearn.feature_extraction.text import TfidfVectorizer\n",
    "from sklearn.linear_model import LogisticRegression\n",
    "from sklearn.feature_extraction.stop_words import ENGLISH_STOP_WORDS\n",
    "import spacy\n",
    "from itertools import chain\n",
    "from sklearn.pipeline import Pipeline\n",
    "import warnings\n",
    "warnings.filterwarnings('ignore')\n",
    "\n",
    "f1 = './data/training_text'\n",
    "f2 = './data/training_variants'\n",
    "\n",
    "df2 = pd.read_csv(f2)"
   ]
  },
  {
   "cell_type": "code",
   "execution_count": 2,
   "metadata": {},
   "outputs": [
    {
     "data": {
      "text/html": [
       "<div>\n",
       "<style>\n",
       "    .dataframe thead tr:only-child th {\n",
       "        text-align: right;\n",
       "    }\n",
       "\n",
       "    .dataframe thead th {\n",
       "        text-align: left;\n",
       "    }\n",
       "\n",
       "    .dataframe tbody tr th {\n",
       "        vertical-align: top;\n",
       "    }\n",
       "</style>\n",
       "<table border=\"1\" class=\"dataframe\">\n",
       "  <thead>\n",
       "    <tr style=\"text-align: right;\">\n",
       "      <th></th>\n",
       "      <th>ID</th>\n",
       "      <th>text</th>\n",
       "    </tr>\n",
       "  </thead>\n",
       "  <tbody>\n",
       "    <tr>\n",
       "      <th>0</th>\n",
       "      <td>0</td>\n",
       "      <td>Cyclin-dependent kinases (CDKs) regulate a var...</td>\n",
       "    </tr>\n",
       "    <tr>\n",
       "      <th>1</th>\n",
       "      <td>1</td>\n",
       "      <td>Abstract Background  Non-small cell lung canc...</td>\n",
       "    </tr>\n",
       "    <tr>\n",
       "      <th>2</th>\n",
       "      <td>2</td>\n",
       "      <td>Abstract Background  Non-small cell lung canc...</td>\n",
       "    </tr>\n",
       "    <tr>\n",
       "      <th>3</th>\n",
       "      <td>3</td>\n",
       "      <td>Recent evidence has demonstrated that acquired...</td>\n",
       "    </tr>\n",
       "    <tr>\n",
       "      <th>4</th>\n",
       "      <td>4</td>\n",
       "      <td>Oncogenic mutations in the monomeric Casitas B...</td>\n",
       "    </tr>\n",
       "  </tbody>\n",
       "</table>\n",
       "</div>"
      ],
      "text/plain": [
       "   ID                                               text\n",
       "0   0  Cyclin-dependent kinases (CDKs) regulate a var...\n",
       "1   1   Abstract Background  Non-small cell lung canc...\n",
       "2   2   Abstract Background  Non-small cell lung canc...\n",
       "3   3  Recent evidence has demonstrated that acquired...\n",
       "4   4  Oncogenic mutations in the monomeric Casitas B..."
      ]
     },
     "execution_count": 2,
     "metadata": {},
     "output_type": "execute_result"
    }
   ],
   "source": [
    "df1 = pd.read_csv(f1, sep='\\|\\|', names=['ID', 'text'], skiprows=1)\n",
    "df1.head()"
   ]
  },
  {
   "cell_type": "code",
   "execution_count": 3,
   "metadata": {},
   "outputs": [
    {
     "data": {
      "text/html": [
       "<div>\n",
       "<style>\n",
       "    .dataframe thead tr:only-child th {\n",
       "        text-align: right;\n",
       "    }\n",
       "\n",
       "    .dataframe thead th {\n",
       "        text-align: left;\n",
       "    }\n",
       "\n",
       "    .dataframe tbody tr th {\n",
       "        vertical-align: top;\n",
       "    }\n",
       "</style>\n",
       "<table border=\"1\" class=\"dataframe\">\n",
       "  <thead>\n",
       "    <tr style=\"text-align: right;\">\n",
       "      <th></th>\n",
       "      <th>ID</th>\n",
       "      <th>Gene</th>\n",
       "      <th>Variation</th>\n",
       "      <th>Class</th>\n",
       "    </tr>\n",
       "  </thead>\n",
       "  <tbody>\n",
       "    <tr>\n",
       "      <th>0</th>\n",
       "      <td>0</td>\n",
       "      <td>FAM58A</td>\n",
       "      <td>Truncating Mutations</td>\n",
       "      <td>1</td>\n",
       "    </tr>\n",
       "    <tr>\n",
       "      <th>1</th>\n",
       "      <td>1</td>\n",
       "      <td>CBL</td>\n",
       "      <td>W802*</td>\n",
       "      <td>2</td>\n",
       "    </tr>\n",
       "    <tr>\n",
       "      <th>2</th>\n",
       "      <td>2</td>\n",
       "      <td>CBL</td>\n",
       "      <td>Q249E</td>\n",
       "      <td>2</td>\n",
       "    </tr>\n",
       "    <tr>\n",
       "      <th>3</th>\n",
       "      <td>3</td>\n",
       "      <td>CBL</td>\n",
       "      <td>N454D</td>\n",
       "      <td>3</td>\n",
       "    </tr>\n",
       "    <tr>\n",
       "      <th>4</th>\n",
       "      <td>4</td>\n",
       "      <td>CBL</td>\n",
       "      <td>L399V</td>\n",
       "      <td>4</td>\n",
       "    </tr>\n",
       "  </tbody>\n",
       "</table>\n",
       "</div>"
      ],
      "text/plain": [
       "   ID    Gene             Variation  Class\n",
       "0   0  FAM58A  Truncating Mutations      1\n",
       "1   1     CBL                 W802*      2\n",
       "2   2     CBL                 Q249E      2\n",
       "3   3     CBL                 N454D      3\n",
       "4   4     CBL                 L399V      4"
      ]
     },
     "execution_count": 3,
     "metadata": {},
     "output_type": "execute_result"
    }
   ],
   "source": [
    "df2.head()"
   ]
  },
  {
   "cell_type": "code",
   "execution_count": 4,
   "metadata": {},
   "outputs": [
    {
     "data": {
      "text/html": [
       "<div>\n",
       "<style>\n",
       "    .dataframe thead tr:only-child th {\n",
       "        text-align: right;\n",
       "    }\n",
       "\n",
       "    .dataframe thead th {\n",
       "        text-align: left;\n",
       "    }\n",
       "\n",
       "    .dataframe tbody tr th {\n",
       "        vertical-align: top;\n",
       "    }\n",
       "</style>\n",
       "<table border=\"1\" class=\"dataframe\">\n",
       "  <thead>\n",
       "    <tr style=\"text-align: right;\">\n",
       "      <th></th>\n",
       "      <th>ID</th>\n",
       "      <th>text</th>\n",
       "      <th>Gene</th>\n",
       "      <th>Variation</th>\n",
       "      <th>Class</th>\n",
       "    </tr>\n",
       "  </thead>\n",
       "  <tbody>\n",
       "    <tr>\n",
       "      <th>0</th>\n",
       "      <td>0</td>\n",
       "      <td>Cyclin-dependent kinases (CDKs) regulate a var...</td>\n",
       "      <td>FAM58A</td>\n",
       "      <td>Truncating Mutations</td>\n",
       "      <td>1</td>\n",
       "    </tr>\n",
       "    <tr>\n",
       "      <th>1</th>\n",
       "      <td>1</td>\n",
       "      <td>Abstract Background  Non-small cell lung canc...</td>\n",
       "      <td>CBL</td>\n",
       "      <td>W802*</td>\n",
       "      <td>2</td>\n",
       "    </tr>\n",
       "    <tr>\n",
       "      <th>2</th>\n",
       "      <td>2</td>\n",
       "      <td>Abstract Background  Non-small cell lung canc...</td>\n",
       "      <td>CBL</td>\n",
       "      <td>Q249E</td>\n",
       "      <td>2</td>\n",
       "    </tr>\n",
       "    <tr>\n",
       "      <th>3</th>\n",
       "      <td>3</td>\n",
       "      <td>Recent evidence has demonstrated that acquired...</td>\n",
       "      <td>CBL</td>\n",
       "      <td>N454D</td>\n",
       "      <td>3</td>\n",
       "    </tr>\n",
       "    <tr>\n",
       "      <th>4</th>\n",
       "      <td>4</td>\n",
       "      <td>Oncogenic mutations in the monomeric Casitas B...</td>\n",
       "      <td>CBL</td>\n",
       "      <td>L399V</td>\n",
       "      <td>4</td>\n",
       "    </tr>\n",
       "  </tbody>\n",
       "</table>\n",
       "</div>"
      ],
      "text/plain": [
       "   ID                                               text    Gene  \\\n",
       "0   0  Cyclin-dependent kinases (CDKs) regulate a var...  FAM58A   \n",
       "1   1   Abstract Background  Non-small cell lung canc...     CBL   \n",
       "2   2   Abstract Background  Non-small cell lung canc...     CBL   \n",
       "3   3  Recent evidence has demonstrated that acquired...     CBL   \n",
       "4   4  Oncogenic mutations in the monomeric Casitas B...     CBL   \n",
       "\n",
       "              Variation  Class  \n",
       "0  Truncating Mutations      1  \n",
       "1                 W802*      2  \n",
       "2                 Q249E      2  \n",
       "3                 N454D      3  \n",
       "4                 L399V      4  "
      ]
     },
     "execution_count": 4,
     "metadata": {},
     "output_type": "execute_result"
    }
   ],
   "source": [
    "df = df1.merge(df2)\n",
    "df.head()"
   ]
  },
  {
   "cell_type": "code",
   "execution_count": 12,
   "metadata": {},
   "outputs": [
    {
     "name": "stdout",
     "output_type": "stream",
     "text": [
      "7    953\n",
      "4    686\n",
      "1    568\n",
      "2    452\n",
      "6    275\n",
      "5    242\n",
      "3     89\n",
      "9     37\n",
      "8     19\n",
      "Name: Class, dtype: int64\n"
     ]
    }
   ],
   "source": [
    "##tokenize and remove stop words\n",
    "from nltk.tokenize.regexp import RegexpTokenizer\n",
    "from nltk_trainer.featx.phonetics import soundex\n",
    "\n",
    "# use nltk to tokenize the data then soundex the tokens\n",
    "# replace the soundexed tokens in the original data\n",
    "regex_tokenizer = RegexpTokenizer(r'(?u)\\d+(?:\\.\\d+)?|\\w+')\n",
    "regex_nonnum_tokenizer = RegexpTokenizer(r'[a-zA-Z]+')\n",
    "\n",
    "\n",
    "def soundex_tokenizer(data_to_tokenize):\n",
    "    tokenized_data = [' '.join(map(soundex, regex_tokenizer.tokenize(product))) for product in data_to_tokenize]\n",
    "    return tokenized_data\n",
    "\n",
    "\n",
    "def word_tokenizer(data_to_tokenize):\n",
    "    tokenized_data = [' '.join(regex_tokenizer.tokenize(product)) for product in data_to_tokenize]\n",
    "    return tokenized_data\n",
    "\n",
    "#df['tokens'] contain tokenized documents\n",
    "df['tokens'] = word_tokenizer(df.text)\n",
    "\n",
    "## look at freqcounts of training data and Y\n",
    "\n",
    "#count of words\n",
    "all_words = chain.from_iterable([words for rownum, words in df['tokens'].iteritems()])\n",
    "words = pd.Series(list(all_words)).value_counts()\n",
    "\n",
    "#count of labels\n",
    "\n",
    "print(df['Class'].value_counts())\n",
    "\n",
    "#####create X and Y training data \n",
    "\n",
    "#%% X and Y Labels\n",
    "le = preprocessing.LabelEncoder()\n",
    "le.fit(df2['Class'])\n",
    "df2['Class2'] = le.transform(df2['Class'])\n",
    "\n",
    "Y_train = df2['Class2']\n",
    "\n",
    "#%%\n",
    "\n",
    "X_train = df['tokens']\n",
    "#X2 = df2['tokens']\n",
    "\n",
    "docs_train, docs_test, labels_train, labels_test = train_test_split(\n",
    "        X_train, Y_train, test_size=0.1, random_state=42, stratify=Y_train)"
   ]
  },
  {
   "cell_type": "code",
   "execution_count": 13,
   "metadata": {},
   "outputs": [
    {
     "name": "stdout",
     "output_type": "stream",
     "text": [
      "n_samples: 3321, n_features: 55260\n"
     ]
    }
   ],
   "source": [
    "def tok(x):\n",
    "    return x\n",
    "\n",
    "def prep(x):\n",
    "    return x\n",
    "\n",
    "vectorizer = TfidfVectorizer(tokenizer=tok, preprocessor=prep,\n",
    "                             ngram_range=(3,3), min_df=2)\n",
    "\n",
    "\n",
    "check = vectorizer.fit_transform(X_train) \n",
    "#check = check.toarray()\n",
    "feature_names = vectorizer.get_feature_names()\n",
    "#the curse of dimensionality or the predictors >> no. samples\n",
    "print(\"n_samples: %d, n_features: %d\" % check.shape)\n"
   ]
  },
  {
   "cell_type": "code",
   "execution_count": 14,
   "metadata": {
    "collapsed": true
   },
   "outputs": [],
   "source": [
    "from sklearn.feature_extraction.text import CountVectorizer\n",
    "\n",
    "cnt_vectorizer = CountVectorizer(tokenizer=tok, preprocessor=prep,ngram_range=(3,3), min_df=2)"
   ]
  },
  {
   "cell_type": "code",
   "execution_count": 19,
   "metadata": {},
   "outputs": [
    {
     "data": {
      "text/plain": [
       "<3321x155732 sparse matrix of type '<class 'numpy.float64'>'\n",
       "\twith 5620942 stored elements in Compressed Sparse Row format>"
      ]
     },
     "execution_count": 19,
     "metadata": {},
     "output_type": "execute_result"
    }
   ],
   "source": [
    "# nltk for tokenizing and removing stop words\n",
    "from sklearn.feature_extraction.text import *\n",
    "import re\n",
    "\n",
    "text = re.compile(\"[A-Za-z]+\")\n",
    "\n",
    "def tok(x):\n",
    "    return text.findall(x)\n",
    "\n",
    "def prep(x):\n",
    "    return text.findall(x)\n",
    "\n",
    "\n",
    "tftr = TfidfVectorizer()\n",
    "# tftr.fit_transform(df.text)"
   ]
  },
  {
   "cell_type": "code",
   "execution_count": 21,
   "metadata": {},
   "outputs": [
    {
     "name": "stdout",
     "output_type": "stream",
     "text": [
      "Precision 0.538594616995\n",
      "Recall 0.636636636637\n",
      "F1-score 0.614119959801\n",
      "F beta score 0.501044370664\n"
     ]
    }
   ],
   "source": [
    "from sklearn.multiclass import OutputCodeClassifier, OneVsRestClassifier, OneVsOneClassifier\n",
    "from sklearn.svm import LinearSVC\n",
    "from sklearn import metrics\n",
    "\n",
    "\n",
    "model = Pipeline([\n",
    "    ('vectorizer', tftr),\n",
    "    ('LR',LogisticRegression(multi_class='multinomial', solver='newton-cg'))\n",
    "])\n",
    "\n",
    "model.fit(docs_train, labels_train)\n",
    "\n",
    "labels_predict = model.predict(docs_test)\n",
    "\n",
    "# proba = model.predict_proba(docs_test)\n",
    "\n",
    "print(\"Precision\", metrics.precision_score(labels_test, labels_predict, average='macro'))\n",
    "print(\"Recall\", metrics.recall_score(labels_test, labels_predict, average='micro'))\n",
    "print(\"F1-score\", metrics.f1_score(labels_test, labels_predict, average='weighted'))\n",
    "print(\"F beta score\", metrics.fbeta_score(labels_test, labels_predict, beta=0.5, average='macro'))"
   ]
  },
  {
   "cell_type": "code",
   "execution_count": 18,
   "metadata": {},
   "outputs": [
    {
     "name": "stdout",
     "output_type": "stream",
     "text": [
      "Precision 0.533360286296\n",
      "Recall 0.630630630631\n",
      "F1-score 0.605827925462\n",
      "F beta score 0.49237392823\n"
     ]
    }
   ],
   "source": [
    "# tokenized\n",
    "\n",
    "model = Pipeline([\n",
    "            ('vectorizer', vectorizer),\n",
    "            ('LR',LogisticRegression(multi_class='multinomial', solver='newton-cg'))\n",
    "            ])\n",
    "\n",
    "model.fit(docs_train, labels_train)\n",
    "\n",
    "labels_predict = model.predict(docs_test)\n",
    "\n",
    "# proba = model.predict_proba(docs_test)\n",
    "\n",
    "print(\"Precision\", metrics.precision_score(labels_test, labels_predict, average='macro'))\n",
    "print(\"Recall\", metrics.recall_score(labels_test, labels_predict, average='micro'))\n",
    "print(\"F1-score\", metrics.f1_score(labels_test, labels_predict, average='weighted'))\n",
    "print(\"F beta score\", metrics.fbeta_score(labels_test, labels_predict, beta=0.5, average='macro'))"
   ]
  },
  {
   "cell_type": "code",
   "execution_count": 31,
   "metadata": {},
   "outputs": [
    {
     "name": "stdout",
     "output_type": "stream",
     "text": [
      "Precision 0.642690570182\n",
      "Recall 0.498498498498\n",
      "F1-score 0.587145139085\n",
      "F beta score 0.570798570741\n"
     ]
    }
   ],
   "source": [
    "from sklearn.multioutput import MultiOutputClassifier\n",
    "from sklearn.ensemble import RandomForestClassifier\n",
    "\n",
    "est = RandomForestClassifier(n_estimators=500)\n",
    "\n",
    "model = Pipeline([\n",
    "    ('vectorizer', tftr),\n",
    "    ('multiclass', MultiOutputClassifier(est))\n",
    "])\n",
    "\n",
    "model.fit(docs_train, pd.get_dummies(labels_train))\n",
    "\n",
    "labels_predict = model.predict(docs_test)\n",
    "\n",
    "labels_test = pd.get_dummies(labels_test)\n",
    "\n",
    "print(\"Precision\", metrics.precision_score(labels_test, labels_predict, average='macro'))\n",
    "print(\"Recall\", metrics.recall_score(labels_test, labels_predict, average='micro'))\n",
    "print(\"F1-score\", metrics.f1_score(labels_test, labels_predict, average='weighted'))\n",
    "print(\"F beta score\", metrics.fbeta_score(labels_test, labels_predict, beta=0.5, average='macro'))"
   ]
  },
  {
   "cell_type": "code",
   "execution_count": 32,
   "metadata": {},
   "outputs": [
    {
     "name": "stdout",
     "output_type": "stream",
     "text": [
      "Precision 0.641551584979\n",
      "Recall 0.489489489489\n",
      "F1-score 0.581474504482\n",
      "F beta score 0.58278843881\n"
     ]
    }
   ],
   "source": [
    "# with tfidf vectoriser\n",
    "\n",
    "est = RandomForestClassifier(n_estimators=100)\n",
    "\n",
    "model = Pipeline([\n",
    "    ('vectorizer', vectorizer),\n",
    "    ('multiclass', MultiOutputClassifier(est))\n",
    "])\n",
    "\n",
    "model.fit(docs_train, pd.get_dummies(labels_train))\n",
    "\n",
    "labels_predict = model.predict(docs_test)\n",
    "\n",
    "labels_test = pd.get_dummies(labels_test)\n",
    "\n",
    "print(\"Precision\", metrics.precision_score(labels_test, labels_predict, average='macro'))\n",
    "print(\"Recall\", metrics.recall_score(labels_test, labels_predict, average='micro'))\n",
    "print(\"F1-score\", metrics.f1_score(labels_test, labels_predict, average='weighted'))\n",
    "print(\"F beta score\", metrics.fbeta_score(labels_test, labels_predict, beta=0.5, average='macro'))"
   ]
  },
  {
   "cell_type": "code",
   "execution_count": null,
   "metadata": {
    "collapsed": true
   },
   "outputs": [],
   "source": []
  },
  {
   "cell_type": "code",
   "execution_count": null,
   "metadata": {
    "collapsed": true
   },
   "outputs": [],
   "source": []
  },
  {
   "cell_type": "code",
   "execution_count": null,
   "metadata": {
    "collapsed": true
   },
   "outputs": [],
   "source": []
  },
  {
   "cell_type": "code",
   "execution_count": null,
   "metadata": {
    "collapsed": true
   },
   "outputs": [],
   "source": []
  },
  {
   "cell_type": "code",
   "execution_count": null,
   "metadata": {
    "collapsed": true
   },
   "outputs": [],
   "source": []
  },
  {
   "cell_type": "code",
   "execution_count": null,
   "metadata": {
    "collapsed": true
   },
   "outputs": [],
   "source": []
  }
 ],
 "metadata": {
  "anaconda-cloud": {},
  "kernelspec": {
   "display_name": "Python 3",
   "language": "python",
   "name": "python3"
  },
  "language_info": {
   "codemirror_mode": {
    "name": "ipython",
    "version": 3
   },
   "file_extension": ".py",
   "mimetype": "text/x-python",
   "name": "python",
   "nbconvert_exporter": "python",
   "pygments_lexer": "ipython3",
   "version": "3.6.1"
  }
 },
 "nbformat": 4,
 "nbformat_minor": 1
}
